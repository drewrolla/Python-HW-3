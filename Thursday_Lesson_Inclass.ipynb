{
 "cells": [
  {
   "cell_type": "markdown",
   "metadata": {},
   "source": [
    "# Object-Oriented-Programming (OOP)"
   ]
  },
  {
   "cell_type": "markdown",
   "metadata": {},
   "source": [
    "## Tasks Today:\n",
    "\n",
    "   \n",
    "\n",
    "1) <b>Creating a Class (Initializing/Declaring)</b> <br>\n",
    "2) <b>Using a Class (Instantiating)</b> <br>\n",
    " &nbsp;&nbsp;&nbsp;&nbsp; a) Creating One Instance <br>\n",
    " &nbsp;&nbsp;&nbsp;&nbsp; b) Creating Multiple Instances <br>\n",
    " &nbsp;&nbsp;&nbsp;&nbsp; c) In-Class Exercise #1 - Create a Class 'Car' and instantiate three different makes of cars <br>\n",
    "3) <b>The \\__init\\__() Method</b> <br>\n",
    " &nbsp;&nbsp;&nbsp;&nbsp; a) The 'self' Attribute <br>\n",
    "4) <b>Class Attributes</b> <br>\n",
    " &nbsp;&nbsp;&nbsp;&nbsp; a) Initializing Attributes <br>\n",
    " &nbsp;&nbsp;&nbsp;&nbsp; b) Setting an Attribute Outside of the \\__init\\__() Method <br>\n",
    " &nbsp;&nbsp;&nbsp;&nbsp; c) Setting Defaults for Attributes <br>\n",
    " &nbsp;&nbsp;&nbsp;&nbsp; d) Accessing Class Attributes <br>\n",
    " &nbsp;&nbsp;&nbsp;&nbsp; e) Changing Class Attributes <br>\n",
    " &nbsp;&nbsp;&nbsp;&nbsp; f) In-Class Exercise #2 - Add a color and wheels attribute to your 'Car' class <br>\n",
    "5) <b>Class Methods</b> <br>\n",
    " &nbsp;&nbsp;&nbsp;&nbsp; a) Creating <br>\n",
    " &nbsp;&nbsp;&nbsp;&nbsp; b) Calling <br>\n",
    " &nbsp;&nbsp;&nbsp;&nbsp; c) Modifying an Attribute's Value Through a Method <br>\n",
    " &nbsp;&nbsp;&nbsp;&nbsp; d) Incrementing an Attribute's Value Through a Method <br>\n",
    " &nbsp;&nbsp;&nbsp;&nbsp; e) In-Class Exercise #3 - Add a method that prints the cars color and wheel number, then call them <br>\n",
    "6) <b>Inheritance</b> <br>\n",
    " &nbsp;&nbsp;&nbsp;&nbsp; a) Syntax for Inheriting from a Parent Class <br>\n",
    " &nbsp;&nbsp;&nbsp;&nbsp; b) The \\__init\\__() Method for a Child Class (super()) <br>\n",
    " &nbsp;&nbsp;&nbsp;&nbsp; c) Defining Attributes and Methods for the Child Class <br>\n",
    " &nbsp;&nbsp;&nbsp;&nbsp; d) Method Overriding <br>\n",
    " &nbsp;&nbsp;&nbsp;&nbsp; e) In-Class Exercise #4 - Create a class 'Ford' that inherits from 'Car' class and initialize it as a Blue Ford Explorer with 4 wheels using the super() method <br>\n",
    "7) <b>Classes as Attributes</b> <br>\n",
    "8) <b>Exercises</b> <br>\n",
    " &nbsp;&nbsp;&nbsp;&nbsp; a) Exercise #1 - Turn the shopping cart program from yesterday into an object-oriented program <br>"
   ]
  },
  {
   "cell_type": "markdown",
   "metadata": {},
   "source": [
    "## Creating a Class (Initializing/Declaring)\n",
    "<p>When creating a class, function, or even a variable you are initializing that object. Initializing and Declaring occur at the same time in Python, whereas in lower level languages you have to declare an object before initializing it. This is the first step in the process of using a class.</p>"
   ]
  },
  {
   "cell_type": "code",
   "execution_count": 4,
   "metadata": {},
   "outputs": [],
   "source": [
    "class Car(): # classes can run without the parentheses\n",
    "    wheels = 4\n",
    "    color = 'blue'"
   ]
  },
  {
   "cell_type": "markdown",
   "metadata": {},
   "source": [
    "## Using a Class (Instantiating)\n",
    "<p>The process of creating a class is called <i>Instantiating</i>. Each time you create a variable of that type of class, it is referred to as an <i>Instance</i> of that class. This is the second step in the process of using a class.</p>"
   ]
  },
  {
   "cell_type": "markdown",
   "metadata": {},
   "source": [
    "##### Creating One Instance"
   ]
  },
  {
   "cell_type": "code",
   "execution_count": 3,
   "metadata": {},
   "outputs": [
    {
     "name": "stdout",
     "output_type": "stream",
     "text": [
      "<class '__main__.Car'>\n"
     ]
    }
   ],
   "source": [
    "class Car(): # classes can run without the parentheses\n",
    "    wheels = 4\n",
    "    color = 'blue'\n",
    "car1 = Car()\n",
    "print(type(car1))\n",
    "c2 = Car()\n",
    "c3 = Car()\n",
    "c4 = Car()\n",
    "\n",
    "c2.color = \"red\""
   ]
  },
  {
   "cell_type": "markdown",
   "metadata": {},
   "source": [
    "##### Creating Multiple Instances"
   ]
  },
  {
   "cell_type": "code",
   "execution_count": null,
   "metadata": {},
   "outputs": [],
   "source": [
    "# see above"
   ]
  },
  {
   "cell_type": "markdown",
   "metadata": {},
   "source": [
    "##### In-Class Exercise #1 - Create a Class 'Car' and Instantiate three different makes of cars"
   ]
  },
  {
   "cell_type": "code",
   "execution_count": null,
   "metadata": {},
   "outputs": [],
   "source": [
    "class Car():\n",
    "    wheels = 4\n",
    "    color = \"yellow\"\n",
    "\n",
    "audi = Car()\n",
    "honda = Car()\n",
    "mazda = Car()"
   ]
  },
  {
   "cell_type": "markdown",
   "metadata": {},
   "source": [
    "## The \\__init\\__() Method <br>\n",
    "<p>This method is used in almost every created class, and called only once upon the creation of the class instance. This method will initialize all variables needed for the object.</p>"
   ]
  },
  {
   "cell_type": "code",
   "execution_count": 14,
   "metadata": {},
   "outputs": [
    {
     "name": "stdout",
     "output_type": "stream",
     "text": [
      "4\n",
      "black\n",
      "Mazda\n",
      "3\n",
      "2016\n",
      "4\n",
      "yellow\n",
      "Tesla\n",
      "CyberTruck\n",
      "2023\n",
      "This is a yellow 2023 Tesla CyberTruck.\n",
      "This is a black 2016 Mazda 3.\n",
      "This is a yellow 2023 Tesla CyberTruck.\n"
     ]
    }
   ],
   "source": [
    "class Car():\n",
    "\n",
    "    wheels = 4\n",
    "\n",
    "    def __init__(self, c, make, model, year): # aka the constructor\n",
    "        self.color = c\n",
    "        self.make = make\n",
    "        self.model = model\n",
    "        self.year = year\n",
    "        self.isFast = True\n",
    "\n",
    "    def printInfo(self):\n",
    "        print(f\"This is a {self.color} {self.year} {self.make} {self.model}.\")\n",
    "\n",
    "car1 = Car(\"black\", \"Mazda\", \"3\", 2016)\n",
    "print(car1.wheels)\n",
    "print(car1.color)\n",
    "print(car1.make)\n",
    "print(car1.model)\n",
    "print(car1.year)\n",
    "\n",
    "car2 = Car('yellow', 'Tesla', 'CyberTruck', 2023)\n",
    "print(car2.wheels)\n",
    "print(car2.color)\n",
    "print(car2.make)\n",
    "print(car2.model)\n",
    "print(car2.year)\n",
    "\n",
    "car2.printInfo()\n",
    "car1.printInfo()\n",
    "\n",
    "# this is what is going on under the hood. (why self is necessary)\n",
    "Car.printInfo(car2)"
   ]
  },
  {
   "cell_type": "markdown",
   "metadata": {},
   "source": [
    "##### The 'self' Attribute <br>\n",
    "<p>This attribute is required to keep track of specific instance's attributes. Without the self attribute, the program would not know how to reference or keep track of an instance's attributes.</p>"
   ]
  },
  {
   "cell_type": "code",
   "execution_count": null,
   "metadata": {},
   "outputs": [],
   "source": [
    "# see above\n",
    "# self is always the first parameter in a class"
   ]
  },
  {
   "cell_type": "markdown",
   "metadata": {},
   "source": [
    "## Class Attributes <br>\n",
    "<p>While variables are inside of a class, they are referred to as attributes and not variables. When someone says 'attribute' you know they're speaking about a class. Attributes can be initialized through the init method, or outside of it.</p>"
   ]
  },
  {
   "cell_type": "markdown",
   "metadata": {},
   "source": [
    "##### Initializing Attributes"
   ]
  },
  {
   "cell_type": "code",
   "execution_count": null,
   "metadata": {},
   "outputs": [],
   "source": [
    "# see above\n",
    "# can define attributes inside the class method\n",
    "# can also define attributes inside your __init__ method"
   ]
  },
  {
   "cell_type": "markdown",
   "metadata": {},
   "source": [
    "##### Accessing Class Attributes"
   ]
  },
  {
   "cell_type": "code",
   "execution_count": null,
   "metadata": {
    "scrolled": true
   },
   "outputs": [],
   "source": [
    "# See Above\n",
    "# ex: car1.color"
   ]
  },
  {
   "cell_type": "markdown",
   "metadata": {},
   "source": [
    "##### Setting Defaults for Attributes"
   ]
  },
  {
   "cell_type": "code",
   "execution_count": 19,
   "metadata": {},
   "outputs": [
    {
     "name": "stdout",
     "output_type": "stream",
     "text": [
      "4\n",
      "2009\n",
      "True\n"
     ]
    },
    {
     "data": {
      "text/plain": [
       "{'color': 'gray',\n",
       " 'make': 'honda',\n",
       " 'model': 'accord',\n",
       " 'year': 2009,\n",
       " 'isFast': True}"
      ]
     },
     "execution_count": 19,
     "metadata": {},
     "output_type": "execute_result"
    }
   ],
   "source": [
    "class Car():\n",
    "    # this works. Define in class scope. but this is not the best way\n",
    "    wheels = 4\n",
    "\n",
    "    def __init__(self, c, make, model, year=1972): # aka the constructor\n",
    "        self.color = c\n",
    "        self.make = make\n",
    "        self.model = model\n",
    "        self.year = year\n",
    "        self.isFast = True\n",
    "\n",
    "    def printInfo(self):\n",
    "        print(f\"This is a {self.color} {self.year} {self.make} {self.model}.\")\n",
    "\n",
    "car1 = Car('gray', 'honda', 'accord', 2009)\n",
    "print(car1.wheels)\n",
    "print(car1.year)\n",
    "print(car1.isFast)\n",
    "\n",
    "car1.__dict__"
   ]
  },
  {
   "cell_type": "markdown",
   "metadata": {},
   "source": [
    "##### Changing Class Attributes <br>\n",
    "<p>Keep in mind there are global class attributes and then there are attributes only available to each class instance which won't effect other classes.</p>"
   ]
  },
  {
   "cell_type": "code",
   "execution_count": 21,
   "metadata": {},
   "outputs": [
    {
     "name": "stdout",
     "output_type": "stream",
     "text": [
      "{'color': 'silver', 'make': 'Honda', 'model': 'Civic', 'year': 1972, 'isFast': True}\n",
      "{'color': 'silver', 'make': 'Honda', 'model': 'Civic', 'year': 2005, 'isFast': True}\n"
     ]
    }
   ],
   "source": [
    "# see above\n",
    "c5 = Car(\"silver\", \"Honda\", \"Civic\")\n",
    "print(c5.__dict__)\n",
    "c5.year = 2005\n",
    "print(c5.__dict__)"
   ]
  },
  {
   "cell_type": "code",
   "execution_count": null,
   "metadata": {},
   "outputs": [],
   "source": []
  },
  {
   "cell_type": "markdown",
   "metadata": {},
   "source": [
    "##### In-Class Exercise #2 - Add a doors and seats attribute to your 'Car' class then print out two different instances with different doors and seats"
   ]
  },
  {
   "cell_type": "code",
   "execution_count": 25,
   "metadata": {},
   "outputs": [
    {
     "data": {
      "text/plain": [
       "{'color': 'silver',\n",
       " 'make': 'Ford',\n",
       " 'model': 'Mustang',\n",
       " 'year': 2016,\n",
       " 'isFast': True,\n",
       " 'door': 3,\n",
       " 'seats': 7}"
      ]
     },
     "execution_count": 25,
     "metadata": {},
     "output_type": "execute_result"
    }
   ],
   "source": [
    "class Car():\n",
    "    # this works. Define in class scope. but this is not the best way\n",
    "    wheels = 4\n",
    "\n",
    "    def __init__(self, c, make, model, door, seats, year=1972): # aka the constructor\n",
    "        self.color = c\n",
    "        self.make = make\n",
    "        self.model = model\n",
    "        self.year = year\n",
    "        self.isFast = True\n",
    "        self.door = door\n",
    "        self.seats = seats\n",
    "\n",
    "    def printInfo(self):\n",
    "        print(f\"This is a {self.color} {self.year} {self.make} {self.model}.\")\n",
    "\n",
    "car1 = Car('red', 'Mazda', \"Miata\", 2, 2, 1989)\n",
    "car1.__dict__\n",
    "car2 = Car('silver', 'Ford', \"Mustang\", 3, 7, 2016)\n",
    "car2.__dict__"
   ]
  },
  {
   "cell_type": "markdown",
   "metadata": {},
   "source": [
    "## Class Methods <br>\n",
    "<p>While inside of a class, functions are referred to as 'methods'. If you hear someone mention methods, they're speaking about classes. Methods are essentially functions, but only callable on the instances of a class.</p>"
   ]
  },
  {
   "cell_type": "markdown",
   "metadata": {},
   "source": [
    "##### Creating"
   ]
  },
  {
   "cell_type": "code",
   "execution_count": 37,
   "metadata": {},
   "outputs": [
    {
     "name": "stdout",
     "output_type": "stream",
     "text": [
      "Brandt Carlsonn\n",
      "brandt.carlsonn@company.com\n",
      "105000\n",
      "110250\n",
      "Brandt Carlsonn\n",
      "Brandt Carlson\n"
     ]
    }
   ],
   "source": [
    "class Employee():\n",
    "    def __init__(self, firstName, lastName, salary=80000):\n",
    "        self.firstName = firstName.title()\n",
    "        self.lastName = lastName.title()\n",
    "        self.email = (firstName + '.' + lastName + '@company.com').lower() #string concatenation\n",
    "        self.raise_amount = 1.05\n",
    "        self.salary = salary\n",
    "\n",
    "    # getter method\n",
    "    def getFullName(self):\n",
    "        return f\"{self.firstName} {self.lastName}\"\n",
    "\n",
    "    # setter method\n",
    "    def applyRaise(self):\n",
    "        self.salary = int(self.salary * self.raise_amount)\n",
    "\n",
    "    def changeLastName(self, lastName):\n",
    "        self.lastName = lastName\n",
    "        self.email = f\"{self.firstName}.{lastName}@company.com\".lower()\n",
    "        # self.email = (self.firstName + '.' + lastName + '@company.com').lower()\n",
    "\n",
    "e1 = Employee('Andrew', 'Wong', 105000)\n",
    "e2 = Employee('Shoha', 'Tsuchida', 75000)\n",
    "e3 = Employee('Brandt', 'Carlsonn', 80000)\n",
    "\n",
    "print(e3.getFullName())\n",
    "print(e3.email)\n",
    "\n",
    "print(e1.salary)\n",
    "e1.applyRaise()\n",
    "print(e1.salary)\n",
    "\n",
    "print(e3.getFullName())\n",
    "e3.changeLastName('Carlson')\n",
    "print(e3.getFullName())"
   ]
  },
  {
   "cell_type": "markdown",
   "metadata": {},
   "source": [
    "##### Calling"
   ]
  },
  {
   "cell_type": "code",
   "execution_count": null,
   "metadata": {},
   "outputs": [],
   "source": [
    "# See Above"
   ]
  },
  {
   "cell_type": "markdown",
   "metadata": {},
   "source": [
    "##### Modifying an Attribute's Value Through a Method"
   ]
  },
  {
   "cell_type": "code",
   "execution_count": null,
   "metadata": {},
   "outputs": [],
   "source": [
    "# setter\n",
    "# see above"
   ]
  },
  {
   "cell_type": "markdown",
   "metadata": {},
   "source": [
    "##### Incrementing an Attribute's Value Through a Method"
   ]
  },
  {
   "cell_type": "code",
   "execution_count": null,
   "metadata": {},
   "outputs": [],
   "source": [
    "# setter (salary raise)\n",
    "# see above"
   ]
  },
  {
   "cell_type": "markdown",
   "metadata": {},
   "source": [
    "##### In-Class Exercise #3 - Add a method that takes in three parameters of year, doors and seats and prints out a formatted print statement with make, model, year, seats, and doors"
   ]
  },
  {
   "cell_type": "code",
   "execution_count": null,
   "metadata": {},
   "outputs": [],
   "source": [
    "# Create class with 2 paramters inside of the __init__ which are make and model\n",
    "\n",
    "# Inside of the Car class create a method that has 4 parameter in total (self,year,door,seats)\n",
    "\n",
    "# Output: This car is from 2019 and is a Ford Expolorer and has 4 doors and 5 seats\n",
    "\n"
   ]
  },
  {
   "cell_type": "markdown",
   "metadata": {},
   "source": [
    "## Inheritance <br>\n",
    "<p>You can create a child-parent relationship between two classes by using inheritance. What this allows you to do is have overriding methods, but also inherit traits from the parent class. Think of it as an actual parent and child, the child will inherit the parent's genes, as will the classes in OOP</p>"
   ]
  },
  {
   "cell_type": "markdown",
   "metadata": {},
   "source": [
    "##### Syntax for Inheriting from a Parent Class"
   ]
  },
  {
   "cell_type": "code",
   "execution_count": null,
   "metadata": {},
   "outputs": [],
   "source": []
  },
  {
   "cell_type": "markdown",
   "metadata": {},
   "source": [
    "##### The \\__init\\__() Method for a Child Class - super()"
   ]
  },
  {
   "cell_type": "code",
   "execution_count": null,
   "metadata": {
    "scrolled": true
   },
   "outputs": [],
   "source": []
  },
  {
   "cell_type": "markdown",
   "metadata": {},
   "source": [
    "##### Defining Attributes and Methods for the Child Class"
   ]
  },
  {
   "cell_type": "code",
   "execution_count": null,
   "metadata": {},
   "outputs": [],
   "source": [
    "# See Above"
   ]
  },
  {
   "cell_type": "markdown",
   "metadata": {},
   "source": [
    "##### Method Overriding"
   ]
  },
  {
   "cell_type": "code",
   "execution_count": null,
   "metadata": {},
   "outputs": [],
   "source": [
    "# See Above"
   ]
  },
  {
   "cell_type": "markdown",
   "metadata": {},
   "source": [
    "## Classes as Attributes <br>\n",
    "<p>Classes can also be used as attributes within another class. This is useful in situations where you need to keep variables locally stored, instead of globally stored.</p>"
   ]
  },
  {
   "cell_type": "code",
   "execution_count": 46,
   "metadata": {},
   "outputs": [
    {
     "name": "stdout",
     "output_type": "stream",
     "text": [
      "{'name': 'Whiskey', 'species': 'Canine', 'legs': 4, 'isFast': True, 'isDog': True}\n",
      "woof\n",
      "moof\n",
      "...\n",
      "...\n",
      "{'name': 'Mr. Stinky', 'species': 'Feline', 'legs': 4}\n"
     ]
    }
   ],
   "source": [
    "# Parent Class\n",
    "class Animal():\n",
    "    def __init__(self, name, species, legs = 4):\n",
    "        self.name = name\n",
    "        self.species = species\n",
    "        self.legs = legs\n",
    "\n",
    "    def talk(self):\n",
    "        print('...')\n",
    "\n",
    "    def breathe(self):\n",
    "        print('...')\n",
    "\n",
    "# Child class\n",
    "class Dog(Animal):\n",
    "    # constructor method will override inherited class's init method\n",
    "    def __init__(self, name, species, legs=4, isFast = True):\n",
    "        Animal.__init__(self, name, species, legs)\n",
    "        self.isFast = isFast\n",
    "        self.isDog = True\n",
    "\n",
    "    def talk(self):\n",
    "        print('woof')\n",
    "\n",
    "class Cat(Animal):\n",
    "    def __init__(self, name, species, legs = 4, isFast = False):\n",
    "        super().__init__(name, species, legs)\n",
    "        isFast = isFast\n",
    "\n",
    "    def talk(self):\n",
    "        print('moof')\n",
    "\n",
    "\n",
    "a1 = Animal('Andrew', 'Human', 2)\n",
    "d1 = Dog('Whiskey', \"Canine\")\n",
    "c1 = Cat('Mr. Stinky', \"Feline\")\n",
    "\n",
    "print(d1.__dict__)\n",
    "d1.talk()\n",
    "c1.talk()\n",
    "a1.talk()\n",
    "d1.breathe()\n",
    "\n",
    "print(c1.__dict__)"
   ]
  },
  {
   "cell_type": "markdown",
   "metadata": {},
   "source": [
    "# Exercises"
   ]
  },
  {
   "cell_type": "markdown",
   "metadata": {},
   "source": [
    "### Exercise 1 - Turn the shopping cart program from yesterday into an object-oriented program\n",
    "\n",
    "The comments in the cell below are there as a guide for thinking about the problem. However, if you feel a different way is best for you and your own thought process, please do what feels best for you by all means."
   ]
  },
  {
   "cell_type": "code",
   "execution_count": 50,
   "metadata": {},
   "outputs": [],
   "source": [
    "# Create a class called cart that retains items and has methods to add, remove, and show\n",
    "\n",
    "class Cart(): # creates the class with the methods\n",
    "    def __init__(self, items):\n",
    "        self.items = items # items will be the things in the list\n",
    "\n",
    "    def addToCart(self):\n",
    "        product = input(\"What do you want to add? \").lower()\n",
    "        self.items.append(product)\n",
    "        print(f\"Successfully added {product} to cart.\")\n",
    "\n",
    "    def showCart(self):\n",
    "        print(self.items)\n",
    "\n",
    "    def removeFromCart(self):\n",
    "        product = input(\"What do you want to remove? \").lower()\n",
    "        if product in self.items:\n",
    "            self.items.remove(product)\n",
    "            print(f\"Successfully removed {product} from cart.\")\n",
    "        else:\n",
    "            print(\"You do not have that item in your cart!\")\n",
    "\n",
    "shopBag = Cart([]) # creates an instance of the class called shopBag and passes a list for the items\n",
    "\n",
    "def goShopping(): # Function to run the code\n",
    "        while True:\n",
    "            action = input(\"What do you want to do? add/remove/show/quit: \").lower()\n",
    "            if action == 'add':\n",
    "                shopBag.addToCart() # calls the method\n",
    "            elif action == 'remove':\n",
    "                shopBag.removeFromCart()\n",
    "            elif action == 'show':\n",
    "                shopBag.showCart()\n",
    "            elif action == 'quit':\n",
    "                break\n",
    "            else:\n",
    "                print(\"Invalid action. Please try again.\")\n",
    "\n",
    "goShopping()"
   ]
  },
  {
   "cell_type": "markdown",
   "metadata": {},
   "source": [
    "### Exercise 2 - Write a Python class which has two methods get_String and print_String. get_String accept a string from the user and print_String print the string in upper case"
   ]
  },
  {
   "cell_type": "code",
   "execution_count": 51,
   "metadata": {},
   "outputs": [],
   "source": [
    "from pyparsing import ParseExpression\n",
    "\n",
    "class Hooplah():\n",
    "    def __init__(self, words):\n",
    "        self.words = words\n",
    "\n",
    "    def get_String(self):\n",
    "        self.words = input(\"Enter a word/sentence/phrase: \")\n",
    "\n",
    "    def print_String(self):\n",
    "        print(f\"This is what you said: {self.words}\").upper()\n",
    "\n",
    "# Brandt's comment on hw: this fixed bugs with this program\n",
    "def print_String(self):\n",
    "    print(f\"This is what you said: {self.words.upper()}\")\n",
    "        \n",
    "h = Hooplah('asdf')\n",
    "h.get_String()\n",
    "h.print_String()"
   ]
  }
 ],
 "metadata": {
  "kernelspec": {
   "display_name": "Python 3.9.13 64-bit",
   "language": "python",
   "name": "python3"
  },
  "language_info": {
   "codemirror_mode": {
    "name": "ipython",
    "version": 3
   },
   "file_extension": ".py",
   "mimetype": "text/x-python",
   "name": "python",
   "nbconvert_exporter": "python",
   "pygments_lexer": "ipython3",
   "version": "3.9.13"
  },
  "vscode": {
   "interpreter": {
    "hash": "08e595c52ca3b9470036b1110e67b559e55f367cabc363f2e28d35631ed95060"
   }
  }
 },
 "nbformat": 4,
 "nbformat_minor": 2
}
